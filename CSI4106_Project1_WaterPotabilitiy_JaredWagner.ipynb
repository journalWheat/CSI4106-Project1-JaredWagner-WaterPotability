{
  "nbformat": 4,
  "nbformat_minor": 0,
  "metadata": {
    "colab": {
      "provenance": [],
      "authorship_tag": "ABX9TyPMk76rXiUVg5KiKpJTJIEB",
      "include_colab_link": true
    },
    "kernelspec": {
      "name": "python3",
      "display_name": "Python 3"
    },
    "language_info": {
      "name": "python"
    }
  },
  "cells": [
    {
      "cell_type": "markdown",
      "metadata": {
        "id": "view-in-github",
        "colab_type": "text"
      },
      "source": [
        "<a href=\"https://colab.research.google.com/github/journalWheat/CSI4106-Project1-JaredWagner-WaterPotability/blob/main/CSI4106_Project1_WaterPotabilitiy_JaredWagner.ipynb\" target=\"_parent\"><img src=\"https://colab.research.google.com/assets/colab-badge.svg\" alt=\"Open In Colab\"/></a>"
      ]
    },
    {
      "cell_type": "markdown",
      "source": [
        "**Predicting water potability with naive bayes, logistic regression, and multi-layer perceptron**\n",
        "\n",
        "# AUTHOR ATTRIBUTION\n",
        "Intellectual property of JARED WAGNER, Fall 2022.\n",
        "\n",
        "Submitted for CSI4106, Introduction to Artificial Intelligence. \n",
        "\n",
        "Student #300010832\n",
        "\n",
        "# Introduction and goals\n",
        "\n",
        "Access to clean drinking water is a world-wide humanitarian issue, but providing this essential human right is a costly process. Therefore, the ability to predict whether water is potable, meaning that it is safe for human consumption, is valuable.\n",
        "\n",
        "The goal of this project is to train 9 different models to accurately predict water potability from low-cost metrics like pH and water hardness. These models *alone* are not very useful, but paired with other systems could be an advantageous tool. For example:\n",
        "- Paired with real-time data measurements for water properties, employees at water treatment plants could be notified of areas which are at risk of being exposed to non-potable drinking water (e.g. if the model classifies the water in an area as \"non-potable.\"\n",
        "- Paired with a geographic dataset with relevant features, policy makers could prioritize areas where providing clean access to drinking water is less costly. This equates to fewer \"dead projects\" where providing drinking water would be prohibitively costly for the project. At the same time, this also means a greater number of low-cost operations, equating to a greater number of people gaining access to clean drinking water."
      ],
      "metadata": {
        "id": "cQ5Uu9KfdO0j"
      }
    },
    {
      "cell_type": "markdown",
      "source": [
        "# Analyzing the data\n",
        "\n",
        "The dataset used for this report was provided through Kaggle: https://www.kaggle.com/datasets/adityakadiwal/water-potability\n",
        "\n",
        "This dataset has ____ usable samples (after discarding samples with null values)and ____ features. From the data sample, I will be developing models to predict whether water is potable. This is a binary classification task, since there are only two classes to classify the water as: 'potable' or 'non-potable.'"
      ],
      "metadata": {
        "id": "IiSlFP3qf-Yj"
      }
    },
    {
      "cell_type": "code",
      "execution_count": null,
      "metadata": {
        "id": "uYo7Iz8Wce5T"
      },
      "outputs": [],
      "source": []
    },
    {
      "cell_type": "markdown",
      "source": [
        "# DISCLOSURE\n",
        "\n",
        "This is the second dataset I selected for this project. Since there may have been influence on this iteration by the work I did on my last dataset, I have included references to the resources I used in the first iteration of this project under \"Works Cited.\"\n",
        "\n",
        "My original project is also available on Github: https://github.com/journalWheat/CSI4106Project1-JaredWagner"
      ],
      "metadata": {
        "id": "IxE94iu1eK5J"
      }
    }
  ]
}